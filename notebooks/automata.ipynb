{
 "cells": [
  {
   "outputs": [],
   "cell_type": "markdown",
   "source": [
    "---\n",
    "layout: post\n",
    "title: \"Automata\"\n",
    "date: 2018-11-29 00:00:00 +0000\n",
    "categories: blog\n",
    "mathjax: true\n",
    "---"
   ],
   "metadata": {}
  },
  {
   "outputs": [],
   "cell_type": "markdown",
   "source": [
    "> To play along with this post, you'll be able to find the source on [github](https://github.com/cormullion/cormullion.github.io), and you'll need Julia (version 1), and the packages Luxor, Colors, and ColorSchemes. This post was written using Fredrik Ekre's [Literate.jl](https://github.com/fredrikekre/Literate.jl){:target=\"_blank\"}."
   ],
   "metadata": {}
  },
  {
   "outputs": [],
   "cell_type": "markdown",
   "source": [
    "> I don't need to give you any references—you'll be spoilt for choice if you start googling."
   ],
   "metadata": {}
  },
  {
   "outputs": [],
   "cell_type": "markdown",
   "source": [
    "Here in the UK we're usually better at closing railway stations than opening new ones. Dr Beeching famously closed thousands of them (more than 50% of the total) in the 1960s. Occasionally, though, new stations are built, and one recent addition to the rail network is the station at [Cambridge North](https://www.networkrail.co.uk/running-the-railway/our-routes/anglia/cambridge-north-station/){:target=\"_blank\"}, built mainly to serve the Cambridge Science Park. (I used to walk along the railway tracks there at weekends before the old disused line was re-opened, but that's another story...)"
   ],
   "metadata": {}
  },
  {
   "outputs": [],
   "cell_type": "markdown",
   "source": [
    "When the station was opened, in 2017, there was a bit of chatter about the decorative panels used for the building."
   ],
   "metadata": {}
  },
  {
   "outputs": [],
   "cell_type": "markdown",
   "source": [
    "![image label](images/automata/Cmglee_Cambridge_North_front_night.jpg)"
   ],
   "metadata": {}
  },
  {
   "outputs": [],
   "cell_type": "markdown",
   "source": [
    "(Image by [cmglee at wikipedia](https://commons.wikimedia.org/wiki/File:Cmglee_Cambridge_North_front_night.jpg){:target=\"_blank\"}, licensed CC-SA)"
   ],
   "metadata": {}
  },
  {
   "outputs": [],
   "cell_type": "markdown",
   "source": [
    "Thsee patterns were described by the designers at Atkins (the contractors) like this:"
   ],
   "metadata": {}
  },
  {
   "outputs": [],
   "cell_type": "markdown",
   "source": [
    ">The station is wrapped in three equal bands of aluminium panels which have been perforated with a design derived from John Horton Conway’s “Game of Life” theories which he established while at Gonville and Caius College, Cambridge in 1970. These beautiful, delicate panels ensure passive security to ground floor glazed areas, assist with wayfinding while crossing the footbridge and allow the building to transform its appearance between day and night through sensitive backlighting."
   ],
   "metadata": {}
  },
  {
   "outputs": [],
   "cell_type": "markdown",
   "source": [
    "This quote is from the original article ([archived here](https://web.archive.org/web/20170219171551/https://www.atkinsglobal.com/en-GB/projects/cambridge-north-station){:target=\"_blank\"}), but it's since been corrected, most probably in response to the anguished cries of thousands of Cambridge nerds who swiftly pointed out that, in fact, these patterns weren't *Life* as we know it, but were actually one-dimensional cellular automata, and so linked, not so much with Cambridge's John Horton Conway, as with noted Oxford/CalTech alumnus Stephen \"Mr Mathematica\" Wolfram."
   ],
   "metadata": {}
  },
  {
   "outputs": [],
   "cell_type": "markdown",
   "source": [
    "I think the designers did a great job using these simple graphics to \"create a harmonic relationship with the scientific research and industry of the Cambridge Colleges and nearby Science Park\"."
   ],
   "metadata": {}
  },
  {
   "outputs": [],
   "cell_type": "markdown",
   "source": [
    "### So what is a one-dimensional cellular automaton?"
   ],
   "metadata": {}
  },
  {
   "outputs": [],
   "cell_type": "markdown",
   "source": [
    "A cellular automaton is a mathematical model that creates patterns automatically according to simple rules. In its simplest, one-dimensional form, it's a row of empty squares, each of which can be occupied or empty. The rules for the model determine how sensitive the occupants of each square are to their immediate left and right neighbours, and whether, after some unspecified time, they survive or die. Sometimes empty squares can miraculously become occupied. Because a square has just two immediate neighbours, there are 8 different cases to consider, ranging from all empty (\"□□□\" or `000` in binary) to all full (\"■■■\" or `111`)."
   ],
   "metadata": {}
  },
  {
   "outputs": [],
   "cell_type": "markdown",
   "source": [
    "The rule determines how one generation changes to the next by specifying the outcome for each of the 8 cases. So, for example, an empty square surrounded by empty neighbours can continue to be empty (false, or 0), or it can produce a new occupant in the next generation, (true, or 1). There are 256 different combinations, since each of the 8 cases can be either 0 or 1."
   ],
   "metadata": {}
  },
  {
   "outputs": [],
   "cell_type": "markdown",
   "source": [
    "The wikipedia has [this nice animation](https://commons.wikimedia.org/wiki/File:One-d-cellular-automate-rule-30.gif){:target=\"_blank\"} showing how the rule produces the next generation of squares."
   ],
   "metadata": {}
  },
  {
   "outputs": [],
   "cell_type": "markdown",
   "source": [
    "![image label](images/automata/one-d-cellular-automaton-rule-110.gif)"
   ],
   "metadata": {}
  },
  {
   "outputs": [],
   "cell_type": "markdown",
   "source": [
    "(Well, it has this nice animation now...)"
   ],
   "metadata": {}
  },
  {
   "outputs": [],
   "cell_type": "markdown",
   "source": [
    "### First steps"
   ],
   "metadata": {}
  },
  {
   "outputs": [],
   "cell_type": "markdown",
   "source": [
    "To explore these simple automata, I started ([^1]) by making a Julia structure:"
   ],
   "metadata": {}
  },
  {
   "outputs": [],
   "cell_type": "code",
   "source": [
    "mutable struct CA\n",
    "    rule::Int64\n",
    "    cells::BitArray{1}\n",
    "    colorstops::Array{Float64, 1}\n",
    "    ruleset::BitArray{1}\n",
    "    generation::Int64\n",
    "    function CA(rule, ncells = 100)\n",
    "        cells                    = falses(ncells)\n",
    "        colorstops               = zeros(Float64, ncells)\n",
    "        ruleset                  = binary_to_array(rule)\n",
    "        cells[length(cells) ÷ 2] = true\n",
    "        generation               = 1\n",
    "        new(rule, cells, colorstops, ruleset, generation)\n",
    "    end\n",
    "end"
   ],
   "metadata": {},
   "execution_count": 1
  },
  {
   "outputs": [],
   "cell_type": "markdown",
   "source": [
    "The `cells` array can hold trues or falses. The `colorstops` array is eventually going to hold some color information. The middle cell is seeded with a single starter value."
   ],
   "metadata": {}
  },
  {
   "outputs": [],
   "cell_type": "markdown",
   "source": [
    "The `binary_to_array()` function just converts a binary number to a bit array (I suspect there's a quicker way)."
   ],
   "metadata": {}
  },
  {
   "outputs": [
    {
     "output_type": "execute_result",
     "data": {
      "text/plain": "binary_to_array (generic function with 1 method)"
     },
     "metadata": {},
     "execution_count": 2
    }
   ],
   "cell_type": "code",
   "source": [
    "function binary_to_array(n)\n",
    "    a = BitArray{1}()\n",
    "    for c in 7:-1:0\n",
    "        k = n >> c\n",
    "        push!(a, (k & 1 == 1 ? true : false))\n",
    "    end\n",
    "    return a\n",
    "end"
   ],
   "metadata": {},
   "execution_count": 2
  },
  {
   "outputs": [],
   "cell_type": "markdown",
   "source": [
    "The `rules()` function takes the values of an individual and its neighbours and applies the rule that determines its state for the next generation:"
   ],
   "metadata": {}
  },
  {
   "outputs": [
    {
     "output_type": "execute_result",
     "data": {
      "text/plain": "rules (generic function with 1 method)"
     },
     "metadata": {},
     "execution_count": 3
    }
   ],
   "cell_type": "code",
   "source": [
    "function rules(ca::CA, a, b, c)\n",
    "    lng = length(ca.ruleset)\n",
    "    return ca.ruleset[mod1(lng - (4a + 2b + c), lng)]\n",
    "end"
   ],
   "metadata": {},
   "execution_count": 3
  },
  {
   "outputs": [],
   "cell_type": "markdown",
   "source": [
    "And a `nextgeneration()` function applies the rule to all the cells. I decided to make it wrap around, so that the final cell considers the first cell as one of its neighbours."
   ],
   "metadata": {}
  },
  {
   "outputs": [
    {
     "output_type": "execute_result",
     "data": {
      "text/plain": "nextgeneration (generic function with 1 method)"
     },
     "metadata": {},
     "execution_count": 4
    }
   ],
   "cell_type": "code",
   "source": [
    "function nextgeneration(ca::CA)\n",
    "    l = length(ca.cells)\n",
    "    nextgen = falses(l)\n",
    "    for i in 1:l\n",
    "        left   = ca.cells[mod1(i - 1, l)]\n",
    "        me     = ca.cells[mod1(i, l)]\n",
    "        right  = ca.cells[mod1(i + 1, l)]\n",
    "        nextgen[i] = rules(ca, left, me, right)\n",
    "    end\n",
    "    ca.cells = nextgen\n",
    "    ca.generation += 1\n",
    "    return ca\n",
    "end"
   ],
   "metadata": {},
   "execution_count": 4
  },
  {
   "outputs": [],
   "cell_type": "markdown",
   "source": [
    "We'll also teach Julia how to show an automaton in the terminal:"
   ],
   "metadata": {}
  },
  {
   "outputs": [
    {
     "output_type": "execute_result",
     "data": {
      "text/plain": "                                                 ■                                                  "
     },
     "metadata": {},
     "execution_count": 5
    }
   ],
   "cell_type": "code",
   "source": [
    "Base.show(io::IO, ::MIME\"text/plain\", ca::CA) =\n",
    "    print(io, join([c ? \"■\" : \" \" for c in ca.cells]))\n",
    "# So now we can create a cellular automaton by providing a rule number (using the default of 100 cells):\n",
    "ca = CA(30)"
   ],
   "metadata": {},
   "execution_count": 5
  },
  {
   "outputs": [],
   "cell_type": "markdown",
   "source": [
    "update the automaton like this:"
   ],
   "metadata": {}
  },
  {
   "outputs": [
    {
     "output_type": "execute_result",
     "data": {
      "text/plain": "                                                ■■■                                                 "
     },
     "metadata": {},
     "execution_count": 6
    }
   ],
   "cell_type": "code",
   "source": [
    "nextgeneration(ca)"
   ],
   "metadata": {},
   "execution_count": 6
  },
  {
   "outputs": [],
   "cell_type": "markdown",
   "source": [
    "and show a historical diagram of its evolution:"
   ],
   "metadata": {}
  },
  {
   "outputs": [],
   "cell_type": "code",
   "source": [
    "for i in 1:30\n",
    "    display(nextgeneration(ca))\n",
    "end"
   ],
   "metadata": {},
   "execution_count": 7
  },
  {
   "outputs": [],
   "cell_type": "markdown",
   "source": [
    "![image label](images/automata/terminal-output.png)"
   ],
   "metadata": {}
  },
  {
   "outputs": [],
   "cell_type": "markdown",
   "source": [
    "### Some graphics"
   ],
   "metadata": {}
  },
  {
   "outputs": [],
   "cell_type": "markdown",
   "source": [
    "The REPL display is more or less functional, but I want to play with the graphic output, so (you guessed):"
   ],
   "metadata": {}
  },
  {
   "outputs": [],
   "cell_type": "code",
   "source": [
    "using Luxor, Colors\n",
    "\n",
    "function draw(ca::CA, cellwidth=10)\n",
    "    lng = length(ca.cells)\n",
    "    for i in 1:lng\n",
    "        if ca.cells[i] == true\n",
    "            pt = Point(-(lng ÷ 2) * cellwidth + i * cellwidth, 0)\n",
    "            box(pt, cellwidth, cellwidth, :fill)\n",
    "        end\n",
    "    end\n",
    "end\n",
    "\n",
    "@png begin\n",
    "    ca = CA(30, 200)\n",
    "    sidelength = 4\n",
    "    # start at the top\n",
    "    translate(boxtopcenter(BoundingBox()) + sidelength)\n",
    "    for i in 1:200\n",
    "        draw(ca, sidelength)\n",
    "        nextgeneration(ca)\n",
    "        translate(Point(0, sidelength))\n",
    "    end\n",
    "end 800 850 \"images/automata/simple-ca.png\""
   ],
   "metadata": {},
   "execution_count": 8
  },
  {
   "outputs": [],
   "cell_type": "markdown",
   "source": [
    "![image label](images/automata/simple-ca.png)"
   ],
   "metadata": {}
  },
  {
   "outputs": [],
   "cell_type": "markdown",
   "source": [
    "You can call `nextgeneration()` without displaying the results, of course. This lets you jump into the future history of an automaton at warp speed."
   ],
   "metadata": {}
  },
  {
   "outputs": [],
   "cell_type": "code",
   "source": [
    "@png begin\n",
    "    ca = CA(110, 200)\n",
    "    translate(boxtopcenter(BoundingBox()) + sidelength)\n",
    "    sidelength = 4\n",
    "    # into the future\n",
    "    for _ in 1:200_000\n",
    "        nextgeneration(ca)\n",
    "    end\n",
    "    for _ in 1:195\n",
    "        draw(ca, sidelength)\n",
    "        nextgeneration(ca)\n",
    "        translate(Point(0, sidelength))\n",
    "    end\n",
    "end 800 800 \"images/automata/simple-ca-future.png\""
   ],
   "metadata": {},
   "execution_count": 9
  },
  {
   "outputs": [],
   "cell_type": "markdown",
   "source": [
    "![image label](images/automata/simple-ca-future.png)"
   ],
   "metadata": {}
  },
  {
   "outputs": [],
   "cell_type": "markdown",
   "source": [
    "I found that sometimes drawing them from left to right looked better (like videos recorded on phones...?):"
   ],
   "metadata": {}
  },
  {
   "outputs": [],
   "cell_type": "code",
   "source": [
    "@png begin\n",
    "    ca = CA(30)\n",
    "    translate(boxmiddleleft(BoundingBox()) + sidelength)\n",
    "    rotate(-π/2)\n",
    "    sidelength = 3.5\n",
    "    for i in 1:320\n",
    "        draw(ca, sidelength)\n",
    "        nextgeneration(ca)\n",
    "        translate(Point(0, sidelength))\n",
    "    end\n",
    "end 1000 400 \"images/automata/simple-landscape-ca.png\""
   ],
   "metadata": {},
   "execution_count": 10
  },
  {
   "outputs": [],
   "cell_type": "markdown",
   "source": [
    "![image label](images/automata/simple-landscape-ca.png)"
   ],
   "metadata": {}
  },
  {
   "outputs": [],
   "cell_type": "markdown",
   "source": [
    "### And now in color"
   ],
   "metadata": {}
  },
  {
   "outputs": [],
   "cell_type": "markdown",
   "source": [
    "So far I haven't used the color information that's stored."
   ],
   "metadata": {}
  },
  {
   "outputs": [],
   "cell_type": "markdown",
   "source": [
    "The `nextgeneration()` function can be updated with instructions about how to modify the color of the next generation, based on the current set of three cells."
   ],
   "metadata": {}
  },
  {
   "outputs": [
    {
     "output_type": "execute_result",
     "data": {
      "text/plain": "nextgeneration (generic function with 1 method)"
     },
     "metadata": {},
     "execution_count": 11
    }
   ],
   "cell_type": "code",
   "source": [
    "function nextgeneration(ca::CA)\n",
    "    l = length(ca.cells)\n",
    "    nextgen = falses(l)\n",
    "    for i in 1:l\n",
    "        left   = ca.cells[mod1(i - 1, l)]\n",
    "        me     = ca.cells[mod1(i, l)]\n",
    "        right  = ca.cells[mod1(i + 1, l)]\n",
    "        nextgen[i] = rules(ca, left, me, right)\n",
    "        if me == 1\n",
    "            ca.colorstops[i] = mod(ca.colorstops[i] + 0.1, 1)\n",
    "        elseif left == 1 && right == 1\n",
    "            ca.colorstops[i] = mod(ca.colorstops[i] - 0.1, 1)\n",
    "        else\n",
    "            ca.colorstops[i] = 0\n",
    "        end\n",
    "    end\n",
    "    ca.cells = nextgen\n",
    "    ca.generation += 1\n",
    "    return ca\n",
    "end"
   ],
   "metadata": {},
   "execution_count": 11
  },
  {
   "outputs": [],
   "cell_type": "markdown",
   "source": [
    "and the `draw()` function can be adapted to make use of the color information. I decided to avoid tackling RGB color value transformations for a first pass, so the single value between 0 and 1 is used to select a color from a color map."
   ],
   "metadata": {}
  },
  {
   "outputs": [],
   "cell_type": "code",
   "source": [
    "using ColorSchemes\n",
    "\n",
    "function drawcolor(ca::CA, cellwidth=10;\n",
    "        scheme=ColorSchemes.leonardo)\n",
    "    lng = length(ca.cells)\n",
    "    for i in 1:lng\n",
    "        if ca.cells[i] == true\n",
    "            sethue(get(scheme, ca.colorstops[i]))\n",
    "            pt = Point(-(lng ÷ 2) * cellwidth + (i * cellwidth), 0)\n",
    "            box(pt, cellwidth, cellwidth, :fill)\n",
    "        end\n",
    "    end\n",
    "end\n",
    "\n",
    "@svg begin\n",
    "    background(\"darkorchid4\")\n",
    "    ca = CA(135, 65)\n",
    "    # randomize start state\n",
    "    ca.cells = rand(Bool, length(ca.cells))\n",
    "    sidelength = 5\n",
    "    translate(boxmiddleleft(BoundingBox()) + sidelength)\n",
    "    rotate(-π/2)\n",
    "    for i in 1:195\n",
    "        drawcolor(ca, sidelength, scheme=ColorSchemes.cubehelix)\n",
    "        nextgeneration(ca)\n",
    "        translate(Point(0, sidelength))\n",
    "    end\n",
    "end 1000 400 \"images/automata/simple-color-ca.svg\""
   ],
   "metadata": {},
   "execution_count": 12
  },
  {
   "outputs": [],
   "cell_type": "markdown",
   "source": [
    "![image label](images/automata/simple-color-ca.svg)"
   ],
   "metadata": {}
  },
  {
   "outputs": [],
   "cell_type": "markdown",
   "source": [
    "This could lead to hours of entertainment (depending on your definition of fun, of course). I uploaded a few experiments that didn't turn out too badly [on Flickr](https://www.flickr.com/photos/153311384@N03/){:target=\"_blank\"}. The current rules show a kind of literal winning streak, as a cell that remains occupied for many generations ends up being brightly illuminated."
   ],
   "metadata": {}
  },
  {
   "outputs": [],
   "cell_type": "markdown",
   "source": [
    "I think these images look quite good when scaled up. It only takes about a second to draw these, but would take much longer to stick them on the wall:"
   ],
   "metadata": {}
  },
  {
   "outputs": [],
   "cell_type": "markdown",
   "source": [
    "![image label](images/automata/office-layout-1.png)"
   ],
   "metadata": {}
  },
  {
   "outputs": [],
   "cell_type": "markdown",
   "source": [
    "![image label](images/automata/office-layout-2.png)"
   ],
   "metadata": {}
  },
  {
   "outputs": [],
   "cell_type": "markdown",
   "source": [
    "The rules for specifying a change in color could do with some kind of systematic definition, perhaps, such that, say, \"rule C81\" means \"increase colorstop by amount if previous parent is 1, decrease it if previous uncle-aunt is 1\", and so on. Then you could pass a set of color rules to the drawing function. (*uncle-aunt*? I couldn't find a word for something that is either an uncle or an aunt, but not a parent...)"
   ],
   "metadata": {}
  },
  {
   "outputs": [],
   "cell_type": "markdown",
   "source": [
    "Instead of drawing simple squares, it's possible to draw other shapes. I'm quite fond of the squircle — you can change the `rt` parameter to get different shapes:"
   ],
   "metadata": {}
  },
  {
   "outputs": [],
   "cell_type": "code",
   "source": [
    "function drawcolorsquircle(ca::CA, cellwidth=10;\n",
    "        scheme=ColorSchemes.leonardo)\n",
    "    lng = length(ca.cells)\n",
    "    for i in 1:lng\n",
    "        if ca.cells[i] == true\n",
    "            sethue(get(scheme, ca.colorstops[i]))\n",
    "            pt = Point(-(lng ÷ 2) * cellwidth + (i * cellwidth), 0)\n",
    "            squircle(pt, cellwidth, cellwidth, rt=6.0, :fill)\n",
    "        end\n",
    "    end\n",
    "end\n",
    "\n",
    "@svg begin\n",
    "    background(\"navyblue\")\n",
    "    ca = CA(110, 30)\n",
    "    # randomize start state\n",
    "    ca.cells = rand(Bool, length(ca.cells))\n",
    "    translate(boxmiddleleft(BoundingBox()) + sidelength)\n",
    "    rotate(-π/2)\n",
    "    sidelength = 10\n",
    "    for i in 1:100\n",
    "        drawcolorsquircle(ca, sidelength, scheme=ColorSchemes.Dark2_8)\n",
    "        nextgeneration(ca)\n",
    "        translate(Point(0, sidelength))\n",
    "    end\n",
    "end 1000 400 \"images/automata/simple-color-ca-squircle.svg\""
   ],
   "metadata": {},
   "execution_count": 13
  },
  {
   "outputs": [],
   "cell_type": "markdown",
   "source": [
    "![image label](images/automata/simple-color-ca-squircle.svg)"
   ],
   "metadata": {}
  },
  {
   "outputs": [],
   "cell_type": "markdown",
   "source": [
    "(This SVG is quite big, and won't display in Juno. But it should load in a browser.)"
   ],
   "metadata": {}
  },
  {
   "outputs": [],
   "cell_type": "markdown",
   "source": [
    "### Getting around to it"
   ],
   "metadata": {}
  },
  {
   "outputs": [],
   "cell_type": "markdown",
   "source": [
    "It occurred to me that you could take a rectangular array and wrap it into a circle."
   ],
   "metadata": {}
  },
  {
   "outputs": [
    {
     "output_type": "execute_result",
     "data": {
      "text/plain": "drawrule (generic function with 1 method)"
     },
     "metadata": {},
     "execution_count": 14
    }
   ],
   "cell_type": "code",
   "source": [
    "function drawsector(ca::CA, cellwidth=10;\n",
    "        scheme=ColorSchemes.leonardo,\n",
    "        centralradius = 10)\n",
    "    lng = length(ca.cells)\n",
    "    width = lng * cellwidth\n",
    "    angulargap = 2π/lng\n",
    "    for i in 1:lng\n",
    "        sethue(get(scheme, ca.colorstops[i]))\n",
    "        innerradius = centralradius\n",
    "        outerradius = centralradius + cellwidth\n",
    "        startang    = rescale(i, 1, lng, 0, 2π)\n",
    "        endang      = startang + angulargap\n",
    "        if ca.cells[i] == true\n",
    "            sector(O, innerradius, outerradius, startang, endang, :fillstroke)\n",
    "        end\n",
    "    end\n",
    "end\n",
    "\n",
    "function drawrule(rulenumber, pos)\n",
    "    @layer begin\n",
    "        translate(pos)\n",
    "        sethue(\"black\")\n",
    "        text(string(rulenumber), halign=:center, valign=:middle)\n",
    "        rotate(-π/2)\n",
    "        ca = CA(rulenumber, 50)\n",
    "        # randomize start state\n",
    "        # ca.cells = rand(Bool, length(ca.cells))\n",
    "        sidelength = 2\n",
    "        setline(0.0)\n",
    "        for n in 5:sidelength:30\n",
    "            drawsector(ca, sidelength,\n",
    "            scheme=ColorSchemes.klimt,\n",
    "            centralradius = n)\n",
    "            nextgeneration(ca)\n",
    "        end\n",
    "    end\n",
    "end"
   ],
   "metadata": {},
   "execution_count": 14
  },
  {
   "outputs": [],
   "cell_type": "markdown",
   "source": [
    "This shows all the rules in this circular form."
   ],
   "metadata": {}
  },
  {
   "outputs": [],
   "cell_type": "code",
   "source": [
    "let\n",
    "    # best in SVG or PDF, but PNG is faster\n",
    "    Drawing(1200, 1200, \"images/automata/color-sector-assembly.svg\")\n",
    "    origin()\n",
    "    background(\"azure\")\n",
    "    fontsize(8)\n",
    "    for (pos, n) in Tiler(1200, 1200, 16, 16)\n",
    "        drawrule(n-1, pos)\n",
    "    end\n",
    "    finish()\n",
    "    preview()\n",
    "end"
   ],
   "metadata": {},
   "execution_count": 15
  },
  {
   "outputs": [],
   "cell_type": "markdown",
   "source": [
    "![image label](images/automata/color-sector-assembly.svg)"
   ],
   "metadata": {}
  },
  {
   "outputs": [],
   "cell_type": "markdown",
   "source": [
    "(Again, this image is quite demanding for SVG and can take a while to load, even though it doesn't take long to generate.)"
   ],
   "metadata": {}
  },
  {
   "outputs": [],
   "cell_type": "markdown",
   "source": [
    "After playing with this idea, I thought it would make some nice jewellery:"
   ],
   "metadata": {}
  },
  {
   "outputs": [],
   "cell_type": "markdown",
   "source": [
    "![image label](images/automata/ca-jewellery-like.png)"
   ],
   "metadata": {}
  },
  {
   "outputs": [],
   "cell_type": "markdown",
   "source": [
    "This is rule 150. I mapped the array to a semicircle and drew it twice."
   ],
   "metadata": {}
  },
  {
   "outputs": [],
   "cell_type": "markdown",
   "source": [
    "### And it moves"
   ],
   "metadata": {}
  },
  {
   "outputs": [],
   "cell_type": "markdown",
   "source": [
    "Many of the rules have limited career paths. Some fizzle out very quickly, others settle down into a stable if repetitive life style. There are a few that continue to make patterns as the number of generations heads off into the thousands."
   ],
   "metadata": {}
  },
  {
   "outputs": [],
   "cell_type": "markdown",
   "source": [
    "The unpredictable high achiever of the 1D cellular automata world is Rule 110. The rule itself is so simple, it could have been described in a Shakespeare play:"
   ],
   "metadata": {}
  },
  {
   "outputs": [],
   "cell_type": "markdown",
   "source": [
    "> [Enter HAMLET, stage left.]\n",
    ">\n",
    "> For Zeros become Ones at all positions,\n",
    ">\n",
    "> Where the value to the right is One.\n",
    ">\n",
    "> Yet Ones are changed to Zeros where'er\n",
    ">\n",
    "> The values to left and right are One."
   ],
   "metadata": {}
  },
  {
   "outputs": [],
   "cell_type": "markdown",
   "source": [
    "And yet this simple rule has been the subject of an astonishing amount of analysis, such as [this in-depth paper by Martinez et al](http://uncomp.uwe.ac.uk/genaro/Papers/Papers_on_CA_files/MARTINEZ.pdf){:target=\"_blank\"} published in the wonderfully-named <em>International Journal of Unconventional Computing</em>. [Matthew Cook's famous paper](https://arxiv.org/pdf/0906.3248v1.pdf){:target=\"_blank\"} proved that Rule 110 is capable of emulating the activity of a Turing machine."
   ],
   "metadata": {}
  },
  {
   "outputs": [],
   "cell_type": "markdown",
   "source": [
    "I understood very little of those wonderful papers, but they did make me want to at least see Rule 110 in action, just in case I could spot all those *cyclic tags*, *meta-gliders*, and *pseudo-solitons*."
   ],
   "metadata": {}
  },
  {
   "outputs": [
    {
     "name": "stdout",
     "output_type": "stream",
     "text": [
      "┌ Info: Frames for animation \"cellularmovie\" are being stored in directory: \n",
      "│ \t /var/folders/0n/rxl1scks0f19tnxt9pgjcs_40000gp/T/tmpXjtO9m\n",
      "└ @ Luxor /Users/pete/.julia/dev/Luxor/src/animate.jl:110\n",
      "┌ Info: ... 500 frames saved in directory:\n",
      "│ \t /var/folders/0n/rxl1scks0f19tnxt9pgjcs_40000gp/T/tmpXjtO9m\n",
      "└ @ Luxor /Users/pete/.julia/dev/Luxor/src/animate.jl:132\n"
     ]
    },
    {
     "output_type": "execute_result",
     "data": {
      "text/plain": "true"
     },
     "metadata": {},
     "execution_count": 16
    }
   ],
   "cell_type": "code",
   "source": [
    "function frame(scene, framenumber, ca, cahistory, sidelength;\n",
    "            smoothscrolling=10)\n",
    "    background(colorant\"navy\")\n",
    "    fontsize(12)\n",
    "    sethue(colorant\"azure\")\n",
    "    text(string(ca.generation), boxtopright(BoundingBox()) + (-30, 20),\n",
    "        halign=:right)\n",
    "    setline(0.1)\n",
    "\n",
    "    # get in position for the first row\n",
    "    translate(boxmiddleleft(BoundingBox()))\n",
    "    rotate(-π/2)\n",
    "\n",
    "    # for smooth scrolling\n",
    "    translate(0, -(mod1(framenumber, smoothscrolling))\n",
    "        * sidelength/smoothscrolling)\n",
    "\n",
    "    lng = length(ca.cells)\n",
    "    for gen in cahistory\n",
    "        for (n, cell) in enumerate(gen)\n",
    "            if cell == true\n",
    "                pt = Point(-(lng / 2) * sidelength + (n * sidelength), 0)\n",
    "                box(pt, sidelength - 2, sidelength - 2, :fill)\n",
    "            end\n",
    "        end\n",
    "        translate(Point(0, sidelength))\n",
    "    end\n",
    "    # \"beautiful buttery scrolling\"\n",
    "    if framenumber % smoothscrolling == 0\n",
    "        # drop oldest, add a new generation\n",
    "        popfirst!(cahistory)\n",
    "        nextgeneration(ca)\n",
    "        push!(cahistory, ca.cells)\n",
    "    end\n",
    "end\n",
    "\n",
    "function makeanimation(rule, filename)\n",
    "    width, height = (1920, 1080)\n",
    "    sidelength = 6\n",
    "    cellularmovie = Movie(width, height, \"cellularmovie\")\n",
    "    ca = CA(rule, convert(Int, height÷sidelength))\n",
    "    cahistory = []\n",
    "    # initial\n",
    "    for _ in 1:width÷sidelength\n",
    "        push!(cahistory, ca.cells)\n",
    "        nextgeneration(ca)\n",
    "    end\n",
    "    animate(cellularmovie,\n",
    "        [Scene(cellularmovie, (s, f) ->\n",
    "            frame(s, f, ca, cahistory, sidelength, smoothscrolling=4),\n",
    "                1:500)],\n",
    "    pathname=\"$(filename)\")\n",
    "end\n",
    "\n",
    "makeanimation(110, \"images/automata/animated-cellular-automaton.gif\")"
   ],
   "metadata": {},
   "execution_count": 16
  },
  {
   "outputs": [],
   "cell_type": "markdown",
   "source": [
    "![image label](images/automata/animated-cellular-automaton.gif)"
   ],
   "metadata": {}
  },
  {
   "outputs": [],
   "cell_type": "markdown",
   "source": [
    "If each frame moved the history 'window' by one generation, you'd get a jerky animation. The smooth-scrolling used here shifts the contents by a few pixels in each frame but changes the contents less often. This requires more frames than generations, so 300 frames with a `smoothscrolling` value of 10 shows only 30 new generations after the initial bunch."
   ],
   "metadata": {}
  },
  {
   "outputs": [],
   "cell_type": "markdown",
   "source": [
    "This GIF does have a few problems; the conflicting demands of file size, image size, image quality, and scroll speed work against each other. There's a slight flickering, due I think to the rounding or aliasing in the GIF. You could make the GIF as long as you want, subject of course to the maximum size of animated GIF that you're prepared to handle. (And yes, this page does take a long time to load. Sorry.)"
   ],
   "metadata": {}
  },
  {
   "outputs": [],
   "cell_type": "markdown",
   "source": [
    "Videos also have their problems with this kind of content, because the downsampling commonly applied can affect the detail. To see what I mean, try watching [Rule 110: The Movie](https://www.youtube.com/watch?v=iKpIuCmATYE&feature=youtu.be){:target=\"_blank\"} (on YouTube). (This is my submission for YouTube's *Most Boring Video 2018* competition.)"
   ],
   "metadata": {}
  },
  {
   "outputs": [],
   "cell_type": "markdown",
   "source": [
    "### Solid work"
   ],
   "metadata": {}
  },
  {
   "outputs": [],
   "cell_type": "markdown",
   "source": [
    "If you want to do more than just look at pictures on the screen—perhaps you're building your own railway station?—here are some tips for exporting the graphics to your favourite 3D modeller."
   ],
   "metadata": {}
  },
  {
   "outputs": [],
   "cell_type": "markdown",
   "source": [
    "First, place a box or shape around the outside of the design, and use the `:path` action rather than `:fill` or `:stroke`. Then, to draw what are now the 'holes', use `newsubpath()` before drawing each hole, and make sure to draw the holes with reversed paths (using the `reversepath` keyword, for example)."
   ],
   "metadata": {}
  },
  {
   "outputs": [],
   "cell_type": "code",
   "source": [
    "function drawaspath(ca::CA;\n",
    "        cellwidth=10)\n",
    "    lng = length(ca.cells)\n",
    "    for i in 1:lng\n",
    "        if ca.cells[i] == true\n",
    "            newsubpath()\n",
    "            pt = Point(-(lng ÷ 2) * cellwidth + (i * cellwidth), 0)\n",
    "            poly(box(pt, cellwidth - 2, cellwidth - 2, vertices=true),\n",
    "                :path, reversepath=true, close=true)\n",
    "        end\n",
    "    end\n",
    "end\n",
    "\n",
    "@svg begin\n",
    "    background(\"black\")\n",
    "    ca = CA(110, 40)\n",
    "    ca.cells = rand(Bool, length(ca.cells))\n",
    "    cellwidth = 7\n",
    "    bxw = boxwidth(BoundingBox() * 0.98)/2\n",
    "    squircle(O, bxw, bxw, rt=0.1, :path)\n",
    "    translate(boxtopcenter(BoundingBox()) + (-5, 7))\n",
    "    for i in 1:40\n",
    "        translate(0, cellwidth)\n",
    "        drawaspath(ca, cellwidth=cellwidth)\n",
    "        nextgeneration(ca)\n",
    "    end\n",
    "    sethue(\"grey80\")\n",
    "    fillpath()\n",
    "end 300 300 \"images/automata/ca-as-path.svg\""
   ],
   "metadata": {},
   "execution_count": 17
  },
  {
   "outputs": [],
   "cell_type": "markdown",
   "source": [
    "![image label](images/automata/ca-as-path.svg){: .center-image}"
   ],
   "metadata": {}
  },
  {
   "outputs": [],
   "cell_type": "markdown",
   "source": [
    "So this is a single path, and the holes are reversed subpaths. When you import this single path into a 3D modelling program, you *should* be able to extrude it into a solid without problems. Here's one modelled as a thin gold reflective sheet."
   ],
   "metadata": {}
  },
  {
   "outputs": [],
   "cell_type": "markdown",
   "source": [
    "![image label](images/automata/ca-3d-render-1.png)"
   ],
   "metadata": {}
  },
  {
   "outputs": [],
   "cell_type": "markdown",
   "source": [
    "It's hard to resist playing with 3D modellers... I added some fog and a rusty metal effect:"
   ],
   "metadata": {}
  },
  {
   "outputs": [],
   "cell_type": "markdown",
   "source": [
    "![image label](images/automata/ca-3d-render-2.png)"
   ],
   "metadata": {}
  },
  {
   "outputs": [],
   "cell_type": "markdown",
   "source": [
    "If you omit the surrounding path, it might still work visually. It would be a challenge to hang all these pieces on a gallery wall:"
   ],
   "metadata": {}
  },
  {
   "outputs": [],
   "cell_type": "markdown",
   "source": [
    "![image label](images/automata/ca-3d-render-3.png)"
   ],
   "metadata": {}
  },
  {
   "outputs": [],
   "cell_type": "markdown",
   "source": [
    "These little critters are quite interesting, and there are a [fair number of scientific papers](https://arxiv.org/search/?query=%22cellular+automata%22&searchtype=title&abstracts=show&order=-announced_date_first&size=50){:target=\"_blank\"} with \"cellular automata\" in the title . I think this must be because, although things don't get much simpler than a cellular automaton, perhaps they might—in some strange way—be similar to how the universe itself works when you zoom in close enough."
   ],
   "metadata": {}
  },
  {
   "outputs": [],
   "cell_type": "markdown",
   "source": [
    "[2018-11-29]"
   ],
   "metadata": {}
  },
  {
   "outputs": [],
   "cell_type": "markdown",
   "source": [
    "[^1]: At the time of writing this I couldn't find any working Julia packages that did one-dimensional cellular automata. But if I had found one, I probably wouldn't have written any of the above anyway."
   ],
   "metadata": {}
  },
  {
   "outputs": [],
   "cell_type": "markdown",
   "source": [
    "![cormullion signing off](http://steampiano.net/cormullionknot.gif?noise){: .center-image}"
   ],
   "metadata": {}
  },
  {
   "outputs": [],
   "cell_type": "markdown",
   "source": [
    "*This notebook was generated using [Literate.jl](https://github.com/fredrikekre/Literate.jl).*"
   ],
   "metadata": {}
  }
 ],
 "nbformat_minor": 3,
 "metadata": {
  "language_info": {
   "file_extension": ".jl",
   "mimetype": "application/julia",
   "name": "julia",
   "version": "1.0.2"
  },
  "kernelspec": {
   "name": "julia-1.0",
   "display_name": "Julia 1.0.2",
   "language": "julia"
  }
 },
 "nbformat": 4
}
